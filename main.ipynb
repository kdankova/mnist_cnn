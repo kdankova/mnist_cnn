{
 "cells": [
  {
   "cell_type": "markdown",
   "source": [
    "### Importing Necessary Libraries"
   ],
   "metadata": {
    "collapsed": false
   },
   "id": "6d77eab3ae716fe3"
  },
  {
   "cell_type": "code",
   "execution_count": 1,
   "outputs": [
    {
     "name": "stdout",
     "output_type": "stream",
     "text": [
      "WARNING:tensorflow:From C:\\Users\\Admin\\PycharmProjects\\MNIST\\venv\\Lib\\site-packages\\keras\\src\\losses.py:2976: The name tf.losses.sparse_softmax_cross_entropy is deprecated. Please use tf.compat.v1.losses.sparse_softmax_cross_entropy instead.\n"
     ]
    }
   ],
   "source": [
    "import numpy as np\n",
    "import pandas as pd\n",
    "import tensorflow\n",
    "from keras.layers import Conv2D, Flatten, Dropout, MaxPool2D, Dense\n",
    "from keras import Sequential\n",
    "import matplotlib.pyplot as plt\n",
    "from keras.datasets import mnist\n",
    "from keras.preprocessing.image import ImageDataGenerator\n",
    "from keras.callbacks import ReduceLROnPlateau, ModelCheckpoint"
   ],
   "metadata": {
    "collapsed": false,
    "ExecuteTime": {
     "end_time": "2024-03-12T15:40:07.708124400Z",
     "start_time": "2024-03-12T15:39:36.603552500Z"
    }
   },
   "id": "initial_id"
  },
  {
   "cell_type": "markdown",
   "source": [
    "### Data Loading and Preprocessing"
   ],
   "metadata": {
    "collapsed": false
   },
   "id": "7c19d0312f1192fa"
  },
  {
   "cell_type": "code",
   "execution_count": 2,
   "outputs": [],
   "source": [
    "train = pd.read_csv('train.csv')\n",
    "test = pd.read_csv('test.csv')"
   ],
   "metadata": {
    "collapsed": false,
    "ExecuteTime": {
     "end_time": "2024-03-12T15:40:16.116247500Z",
     "start_time": "2024-03-12T15:40:07.708124400Z"
    }
   },
   "id": "4ad83a29c8085094"
  },
  {
   "cell_type": "code",
   "execution_count": 3,
   "outputs": [],
   "source": [
    "X_train = train.drop(['label'], axis=1)\n",
    "X_train = X_train / 255.0\n",
    "X_train = X_train.values.reshape(-1, 28, 28, 1)\n",
    "y_train = tensorflow.keras.utils.to_categorical(train['label'], num_classes=10)"
   ],
   "metadata": {
    "collapsed": false,
    "ExecuteTime": {
     "end_time": "2024-03-12T15:40:18.497930800Z",
     "start_time": "2024-03-12T15:40:16.132795700Z"
    }
   },
   "id": "ff74884cfcafc39c"
  },
  {
   "cell_type": "code",
   "execution_count": 4,
   "outputs": [],
   "source": [
    "test = test / 255.0\n",
    "test = test.values.reshape(-1, 28, 28, 1)"
   ],
   "metadata": {
    "collapsed": false,
    "ExecuteTime": {
     "end_time": "2024-03-12T15:40:18.711830700Z",
     "start_time": "2024-03-12T15:40:18.497930800Z"
    }
   },
   "id": "32a10a0998838a45"
  },
  {
   "cell_type": "code",
   "execution_count": 5,
   "outputs": [],
   "source": [
    "(X_train_MNIST, y_train_MNIST), (X_test_MNIST, y_test_MNIST) = mnist.load_data()\n",
    "train_mnist = np.concatenate((X_train_MNIST, X_test_MNIST))\n",
    "test_mnist = np.concatenate((y_train_MNIST, y_test_MNIST))\n",
    "\n",
    "train_mnist = train_mnist.reshape(-1, 28, 28, 1)\n",
    "train_mnist = train_mnist / 255.0\n",
    "\n",
    "test_mnist = tensorflow.keras.utils.to_categorical(test_mnist, num_classes=10)\n",
    "\n",
    "images = np.concatenate((X_train, train_mnist))\n",
    "labels = np.concatenate((y_train, test_mnist))"
   ],
   "metadata": {
    "collapsed": false,
    "ExecuteTime": {
     "end_time": "2024-03-12T15:40:22.590137200Z",
     "start_time": "2024-03-12T15:40:18.728718700Z"
    }
   },
   "id": "f77e0c9ed508831c"
  },
  {
   "cell_type": "code",
   "execution_count": 6,
   "outputs": [
    {
     "data": {
      "text/plain": "<Figure size 1000x1000 with 9 Axes>",
      "image/png": "[encoded data removed]"
     },
     "metadata": {},
     "output_type": "display_data"
    }
   ],
   "source": [
    "plt.figure(figsize=(10, 10))\n",
    "for i in range(9):\n",
    "    ax = plt.subplot(3, 3, i + 1)\n",
    "    plt.xticks([])\n",
    "    plt.yticks([])\n",
    "    plt.grid(False)\n",
    "    plt.imshow(X_train[i], cmap=plt.cm.binary)\n",
    "    plt.axis(\"off\")\n",
    "plt.show()"
   ],
   "metadata": {
    "collapsed": false,
    "ExecuteTime": {
     "end_time": "2024-03-12T15:40:24.335977200Z",
     "start_time": "2024-03-12T15:40:22.673315300Z"
    }
   },
   "id": "571a29f3b9b11ca3"
  },
  {
   "cell_type": "code",
   "execution_count": 7,
   "outputs": [
    {
     "name": "stdout",
     "output_type": "stream",
     "text": [
      "(112000, 28, 28, 1)\n",
      "(112000, 10)\n"
     ]
    }
   ],
   "source": [
    "print(images.shape)\n",
    "print(labels.shape)"
   ],
   "metadata": {
    "collapsed": false,
    "ExecuteTime": {
     "end_time": "2024-03-12T15:40:24.343492800Z",
     "start_time": "2024-03-12T15:40:24.327572Z"
    }
   },
   "id": "633451ac940e6d75"
  },
  {
   "cell_type": "markdown",
   "source": [
    "### Data Augmentation"
   ],
   "metadata": {
    "collapsed": false
   },
   "id": "23e7010b124cca4b"
  },
  {
   "cell_type": "code",
   "execution_count": 8,
   "outputs": [],
   "source": [
    "datagen = ImageDataGenerator(rotation_range=20, width_shift_range=0.2, shear_range=15, zoom_range=0.1,\n",
    "                             validation_split=0.25)"
   ],
   "metadata": {
    "collapsed": false,
    "ExecuteTime": {
     "end_time": "2024-03-12T15:40:24.954688900Z",
     "start_time": "2024-03-12T15:40:24.343492800Z"
    }
   },
   "id": "81dd862a0924bfc0"
  },
  {
   "cell_type": "code",
   "execution_count": 9,
   "outputs": [],
   "source": [
    "train_dataset = datagen.flow(images, labels, batch_size=256, subset='training')"
   ],
   "metadata": {
    "collapsed": false,
    "ExecuteTime": {
     "end_time": "2024-03-12T15:40:25.250448100Z",
     "start_time": "2024-03-12T15:40:24.384603Z"
    }
   },
   "id": "87a7ef5fffce3de5"
  },
  {
   "cell_type": "code",
   "execution_count": 10,
   "outputs": [],
   "source": [
    "test_dataset = datagen.flow(images, labels, batch_size=64, subset='validation')"
   ],
   "metadata": {
    "collapsed": false,
    "ExecuteTime": {
     "end_time": "2024-03-12T15:40:27.459762300Z",
     "start_time": "2024-03-12T15:40:25.185401300Z"
    }
   },
   "id": "2f3c8da565cfab38"
  },
  {
   "cell_type": "markdown",
   "source": [
    "### Model Building"
   ],
   "metadata": {
    "collapsed": false
   },
   "id": "dd0f699a11ee319f"
  },
  {
   "cell_type": "code",
   "execution_count": 11,
   "outputs": [
    {
     "name": "stdout",
     "output_type": "stream",
     "text": [
      "WARNING:tensorflow:From C:\\Users\\Admin\\PycharmProjects\\MNIST\\venv\\Lib\\site-packages\\keras\\src\\backend.py:873: The name tf.get_default_graph is deprecated. Please use tf.compat.v1.get_default_graph instead.\n"
     ]
    }
   ],
   "source": [
    "model = Sequential()"
   ],
   "metadata": {
    "collapsed": false,
    "ExecuteTime": {
     "end_time": "2024-03-12T15:40:30.509735600Z",
     "start_time": "2024-03-12T15:40:26.572573100Z"
    }
   },
   "id": "cb9809397794e1be"
  },
  {
   "cell_type": "code",
   "execution_count": 12,
   "outputs": [
    {
     "name": "stdout",
     "output_type": "stream",
     "text": [
      "WARNING:tensorflow:From C:\\Users\\Admin\\PycharmProjects\\MNIST\\venv\\Lib\\site-packages\\keras\\src\\layers\\pooling\\max_pooling2d.py:161: The name tf.nn.max_pool is deprecated. Please use tf.nn.max_pool2d instead.\n"
     ]
    }
   ],
   "source": [
    "model.add(Conv2D(filters=32, kernel_size=5, activation='relu', padding='same', input_shape=(28, 28, 1)))\n",
    "model.add(MaxPool2D(pool_size=2))\n",
    "model.add(Conv2D(filters=64, kernel_size=3, activation='relu', padding='same'))\n",
    "model.add(Conv2D(filters=64, kernel_size=3, activation='relu', padding='same'))\n",
    "model.add(MaxPool2D(pool_size=2))\n",
    "model.add(Conv2D(filters=64, kernel_size=3, activation='relu', padding='same'))\n",
    "model.add(Conv2D(filters=64, kernel_size=3, activation='relu', padding='same'))\n",
    "model.add(MaxPool2D(pool_size=2))"
   ],
   "metadata": {
    "collapsed": false,
    "ExecuteTime": {
     "end_time": "2024-03-12T15:40:31.892799300Z",
     "start_time": "2024-03-12T15:40:30.518318200Z"
    }
   },
   "id": "abcbda00586e5a32"
  },
  {
   "cell_type": "code",
   "execution_count": 13,
   "outputs": [],
   "source": [
    "model.add(Flatten())\n",
    "model.add(Dense(512, activation='relu'))\n",
    "model.add(Dropout(0.25))\n",
    "model.add(Dense(512, activation='relu'))\n",
    "model.add(Dropout(0.25))\n",
    "model.add(Dense(512, activation='relu'))\n",
    "model.add(Dropout(0.1))\n",
    "model.add(Dense(256, activation='relu'))\n",
    "model.add(Dense(10, activation='softmax'))"
   ],
   "metadata": {
    "collapsed": false,
    "ExecuteTime": {
     "end_time": "2024-03-12T15:40:32.056300300Z",
     "start_time": "2024-03-12T15:40:31.802181800Z"
    }
   },
   "id": "dd99e598628e26be"
  },
  {
   "cell_type": "markdown",
   "source": [
    "### Model Compilation and Training"
   ],
   "metadata": {
    "collapsed": false
   },
   "id": "d74ea9fbd4553370"
  },
  {
   "cell_type": "code",
   "execution_count": 14,
   "outputs": [
    {
     "name": "stdout",
     "output_type": "stream",
     "text": [
      "WARNING:tensorflow:From C:\\Users\\Admin\\PycharmProjects\\MNIST\\venv\\Lib\\site-packages\\keras\\src\\optimizers\\__init__.py:309: The name tf.train.Optimizer is deprecated. Please use tf.compat.v1.train.Optimizer instead.\n"
     ]
    }
   ],
   "source": [
    "model.compile(optimizer='adam', loss='categorical_crossentropy', metrics=['accuracy'])"
   ],
   "metadata": {
    "collapsed": false,
    "ExecuteTime": {
     "end_time": "2024-03-12T15:40:32.386318400Z",
     "start_time": "2024-03-12T15:40:32.072689700Z"
    }
   },
   "id": "b1aa99efbdb8ea7c"
  },
  {
   "cell_type": "code",
   "execution_count": 15,
   "outputs": [],
   "source": [
    "reduce_lr = ReduceLROnPlateau(monitor='val_loss', factor=0.1, patience=5, min_lr=0.000001)\n",
    "checkpoint = ModelCheckpoint(filepath='model.hdf5', monitor='val_loss', save_best_only=True, save_weights_only=True)"
   ],
   "metadata": {
    "collapsed": false,
    "ExecuteTime": {
     "end_time": "2024-03-12T15:40:32.394542500Z",
     "start_time": "2024-03-12T15:40:32.372942Z"
    }
   },
   "id": "1cee135b7efbd210"
  },
  {
   "cell_type": "code",
   "execution_count": 16,
   "outputs": [
    {
     "ename": "NameError",
     "evalue": "name 'scipy' is not defined",
     "output_type": "error",
     "traceback": [
      "\u001B[1;31m---------------------------------------------------------------------------\u001B[0m",
      "\u001B[1;31mNameError\u001B[0m                                 Traceback (most recent call last)",
      "Cell \u001B[1;32mIn[16], line 1\u001B[0m\n\u001B[1;32m----> 1\u001B[0m history \u001B[38;5;241m=\u001B[39m \u001B[43mmodel\u001B[49m\u001B[38;5;241;43m.\u001B[39;49m\u001B[43mfit\u001B[49m\u001B[43m(\u001B[49m\u001B[43mtrain_dataset\u001B[49m\u001B[43m,\u001B[49m\u001B[43m \u001B[49m\u001B[43mepochs\u001B[49m\u001B[38;5;241;43m=\u001B[39;49m\u001B[38;5;241;43m20\u001B[39;49m\u001B[43m,\u001B[49m\u001B[43m \u001B[49m\u001B[43mvalidation_data\u001B[49m\u001B[38;5;241;43m=\u001B[39;49m\u001B[43mtest_dataset\u001B[49m\u001B[43m,\u001B[49m\u001B[43m \u001B[49m\u001B[43mcallbacks\u001B[49m\u001B[38;5;241;43m=\u001B[39;49m\u001B[43m[\u001B[49m\u001B[43mreduce_lr\u001B[49m\u001B[43m,\u001B[49m\u001B[43m \u001B[49m\u001B[43mcheckpoint\u001B[49m\u001B[43m]\u001B[49m\u001B[43m)\u001B[49m\n",
      "File \u001B[1;32m~\\PycharmProjects\\MNIST\\venv\\Lib\\site-packages\\keras\\src\\utils\\traceback_utils.py:70\u001B[0m, in \u001B[0;36mfilter_traceback.<locals>.error_handler\u001B[1;34m(*args, **kwargs)\u001B[0m\n\u001B[0;32m     67\u001B[0m     filtered_tb \u001B[38;5;241m=\u001B[39m _process_traceback_frames(e\u001B[38;5;241m.\u001B[39m__traceback__)\n\u001B[0;32m     68\u001B[0m     \u001B[38;5;66;03m# To get the full stack trace, call:\u001B[39;00m\n\u001B[0;32m     69\u001B[0m     \u001B[38;5;66;03m# `tf.debugging.disable_traceback_filtering()`\u001B[39;00m\n\u001B[1;32m---> 70\u001B[0m     \u001B[38;5;28;01mraise\u001B[39;00m e\u001B[38;5;241m.\u001B[39mwith_traceback(filtered_tb) \u001B[38;5;28;01mfrom\u001B[39;00m \u001B[38;5;28;01mNone\u001B[39;00m\n\u001B[0;32m     71\u001B[0m \u001B[38;5;28;01mfinally\u001B[39;00m:\n\u001B[0;32m     72\u001B[0m     \u001B[38;5;28;01mdel\u001B[39;00m filtered_tb\n",
      "File \u001B[1;32m~\\PycharmProjects\\MNIST\\venv\\Lib\\site-packages\\keras\\src\\preprocessing\\image.py:2526\u001B[0m, in \u001B[0;36mapply_affine_transform\u001B[1;34m(x, theta, tx, ty, shear, zx, zy, row_axis, col_axis, channel_axis, fill_mode, cval, order)\u001B[0m\n\u001B[0;32m   2482\u001B[0m \u001B[38;5;129m@keras_export\u001B[39m(\u001B[38;5;124m\"\u001B[39m\u001B[38;5;124mkeras.preprocessing.image.apply_affine_transform\u001B[39m\u001B[38;5;124m\"\u001B[39m)\n\u001B[0;32m   2483\u001B[0m \u001B[38;5;28;01mdef\u001B[39;00m \u001B[38;5;21mapply_affine_transform\u001B[39m(\n\u001B[0;32m   2484\u001B[0m     x,\n\u001B[1;32m   (...)\u001B[0m\n\u001B[0;32m   2496\u001B[0m     order\u001B[38;5;241m=\u001B[39m\u001B[38;5;241m1\u001B[39m,\n\u001B[0;32m   2497\u001B[0m ):\n\u001B[0;32m   2498\u001B[0m \u001B[38;5;250m    \u001B[39m\u001B[38;5;124;03m\"\"\"Applies an affine transformation specified by the parameters given.\u001B[39;00m\n\u001B[0;32m   2499\u001B[0m \n\u001B[0;32m   2500\u001B[0m \u001B[38;5;124;03m    Args:\u001B[39;00m\n\u001B[1;32m   (...)\u001B[0m\n\u001B[0;32m   2524\u001B[0m \u001B[38;5;124;03m        ImportError: if SciPy is not available.\u001B[39;00m\n\u001B[0;32m   2525\u001B[0m \u001B[38;5;124;03m    \"\"\"\u001B[39;00m\n\u001B[1;32m-> 2526\u001B[0m     \u001B[38;5;28;01mif\u001B[39;00m \u001B[43mscipy\u001B[49m \u001B[38;5;129;01mis\u001B[39;00m \u001B[38;5;28;01mNone\u001B[39;00m:\n\u001B[0;32m   2527\u001B[0m         \u001B[38;5;28;01mraise\u001B[39;00m \u001B[38;5;167;01mImportError\u001B[39;00m(\u001B[38;5;124m\"\u001B[39m\u001B[38;5;124mImage transformations require SciPy. Install SciPy.\u001B[39m\u001B[38;5;124m\"\u001B[39m)\n\u001B[0;32m   2529\u001B[0m     \u001B[38;5;66;03m# Input sanity checks:\u001B[39;00m\n\u001B[0;32m   2530\u001B[0m     \u001B[38;5;66;03m# 1. x must 2D image with one or more channels (i.e., a 3D tensor)\u001B[39;00m\n\u001B[0;32m   2531\u001B[0m     \u001B[38;5;66;03m# 2. channels must be either first or last dimension\u001B[39;00m\n",
      "\u001B[1;31mNameError\u001B[0m: name 'scipy' is not defined"
     ]
    }
   ],
   "source": [
    "history = model.fit(train_dataset, epochs=20, validation_data=test_dataset, callbacks=[reduce_lr, checkpoint])"
   ],
   "metadata": {
    "collapsed": false,
    "ExecuteTime": {
     "end_time": "2024-03-12T15:40:33.685282Z",
     "start_time": "2024-03-12T15:40:32.386318400Z"
    }
   },
   "id": "c547fa46324d2b94"
  },
  {
   "cell_type": "markdown",
   "source": [
    "### Plotting Training History"
   ],
   "metadata": {
    "collapsed": false
   },
   "id": "726688283b6bed05"
  },
  {
   "cell_type": "code",
   "execution_count": null,
   "outputs": [],
   "source": [
    "plt.figure(figsize=(14, 5))\n",
    "\n",
    "# Plotting Accuracy\n",
    "plt.subplot(1, 2, 1)\n",
    "plt.plot(history.history['accuracy'], label='Training Accuracy')\n",
    "plt.plot(history.history['val_accuracy'], label='Validation Accuracy')\n",
    "plt.title('Model Accuracy')\n",
    "plt.xlabel('Epoch')\n",
    "plt.ylabel('Accuracy')\n",
    "plt.legend()\n",
    "\n",
    "# Plotting Loss\n",
    "plt.subplot(1, 2, 2)\n",
    "plt.plot(history.history['loss'], label='Training Loss')\n",
    "plt.plot(history.history['val_loss'], label='Validation Loss')\n",
    "plt.title('Model Loss')\n",
    "plt.xlabel('Epoch')\n",
    "plt.ylabel('Loss')\n",
    "plt.legend()\n",
    "\n",
    "plt.tight_layout()\n",
    "plt.show()"
   ],
   "metadata": {
    "collapsed": false,
    "ExecuteTime": {
     "start_time": "2024-03-12T15:40:33.661006300Z"
    }
   },
   "id": "e9dee6b7183d7ccc"
  },
  {
   "cell_type": "code",
   "execution_count": null,
   "outputs": [],
   "source": [
    "test = pd.read_csv('test.csv')\n",
    "\n",
    "test = np.array(test, dtype=np.float32) / 255\n",
    "test = test.reshape(-1, 28, 28, 1)\n",
    "prediction = model.predict(test)\n",
    "predict = np.array(np.round(prediction), dtype=np.int32)\n",
    "predict = np.argmax(predict, axis=1).reshape(-1, 1)\n",
    "out = [{'ImageId': i + 1, 'Label': predict[i][0]} for i in range(len(predict))]\n",
    "pd.DataFrame(out).to_csv('submission.csv', index=False)"
   ],
   "metadata": {
    "collapsed": false,
    "ExecuteTime": {
     "end_time": "2024-03-12T15:40:34.185658900Z",
     "start_time": "2024-03-12T15:40:33.709955Z"
    }
   },
   "id": "a217c39b04c7a15c"
  },
  {
   "cell_type": "code",
   "execution_count": 21,
   "outputs": [],
   "source": [],
   "metadata": {
    "collapsed": false,
    "ExecuteTime": {
     "end_time": "2023-11-22T12:34:54.044726100Z",
     "start_time": "2023-11-22T12:34:54.044726100Z"
    }
   },
   "id": "1249c63df22e8e7"
  },
  {
   "cell_type": "code",
   "execution_count": null,
   "outputs": [],
   "source": [],
   "metadata": {
    "collapsed": false,
    "ExecuteTime": {
     "end_time": "2023-11-22T12:33:01.424485200Z",
     "start_time": "2023-11-22T12:33:01.424485200Z"
    }
   },
   "id": "974652372f8cd545"
  },
  {
   "cell_type": "code",
   "execution_count": null,
   "outputs": [],
   "source": [],
   "metadata": {
    "collapsed": false,
    "ExecuteTime": {
     "end_time": "2023-11-22T12:33:01.424485200Z",
     "start_time": "2023-11-22T12:33:01.424485200Z"
    }
   },
   "id": "e53779f6364cf083"
  },
  {
   "cell_type": "code",
   "execution_count": null,
   "outputs": [],
   "source": [],
   "metadata": {
    "collapsed": false,
    "ExecuteTime": {
     "start_time": "2023-11-22T12:33:01.424485200Z"
    }
   },
   "id": "3bf9c453a821fd2c"
  },
  {
   "cell_type": "code",
   "execution_count": null,
   "outputs": [],
   "source": [],
   "metadata": {
    "collapsed": false,
    "ExecuteTime": {
     "end_time": "2023-11-22T12:33:01.424485200Z",
     "start_time": "2023-11-22T12:33:01.424485200Z"
    }
   },
   "id": "a083a1c45c677daf"
  },
  {
   "cell_type": "code",
   "execution_count": null,
   "outputs": [],
   "source": [],
   "metadata": {
    "collapsed": false,
    "ExecuteTime": {
     "start_time": "2023-11-22T12:33:01.424485200Z"
    }
   },
   "id": "b2a4da4344122dd6"
  },
  {
   "cell_type": "code",
   "execution_count": null,
   "outputs": [],
   "source": [],
   "metadata": {
    "collapsed": false,
    "ExecuteTime": {
     "start_time": "2023-11-22T12:33:01.424485200Z"
    }
   },
   "id": "2b6beb7e0cb54526"
  },
  {
   "cell_type": "code",
   "execution_count": null,
   "outputs": [],
   "source": [
    "### Importing Necessary Libraries\n",
    "import numpy as np\n",
    "import pandas as pd\n",
    "import tensorflow\n",
    "from keras.layers import Conv2D, Flatten, Dropout, MaxPool2D, Dense\n",
    "from keras import Sequential\n",
    "import matplotlib.pyplot as plt\n",
    "from keras.datasets import mnist\n",
    "from keras.preprocessing.image import ImageDataGenerator\n",
    "from keras.callbacks import ReduceLROnPlateau, ModelCheckpoint\n",
    "\n",
    "### Data Loading and Preprocessing\n",
    "train = pd.read_csv('train.csv')\n",
    "test = pd.read_csv('test.csv')\n",
    "X_train = train.drop(['label'], axis=1)\n",
    "X_train = X_train / 255.0\n",
    "X_train = X_train.values.reshape(-1, 28, 28, 1)\n",
    "y_train = tensorflow.keras.utils.to_categorical(train['label'], num_classes=10)\n",
    "test = test / 255.0\n",
    "test = test.values.reshape(-1, 28, 28, 1)\n",
    "(X_train_MNIST, y_train_MNIST), (X_test_MNIST, y_test_MNIST) = mnist.load_data()\n",
    "train_mnist = np.concatenate((X_train_MNIST, X_test_MNIST))\n",
    "test_mnist = np.concatenate((y_train_MNIST, y_test_MNIST))\n",
    "\n",
    "train_mnist = train_mnist.reshape(-1, 28, 28, 1)\n",
    "train_mnist = train_mnist / 255.0\n",
    "\n",
    "test_mnist = tensorflow.keras.utils.to_categorical(test_mnist, num_classes=10)\n",
    "\n",
    "images = np.concatenate((X_train, train_mnist))\n",
    "labels = np.concatenate((y_train, test_mnist))\n",
    "plt.figure(figsize=(10, 10))\n",
    "for i in range(9):\n",
    "    ax = plt.subplot(3, 3, i + 1)\n",
    "    plt.xticks([])\n",
    "    plt.yticks([])\n",
    "    plt.grid(False)\n",
    "    plt.imshow(X_train[i], cmap=plt.cm.binary)\n",
    "    plt.axis(\"off\")\n",
    "plt.show()\n",
    "print(images.shape)\n",
    "print(labels.shape)\n",
    "### Data Augmentation\n",
    "datagen = ImageDataGenerator(rotation_range=20, width_shift_range=0.2, shear_range=15, zoom_range=0.1,\n",
    "                             validation_split=0.25)\n",
    "train_dataset = datagen.flow(images, labels, batch_size=256, subset='training')\n",
    "test_dataset = datagen.flow(images, labels, batch_size=64, subset='validation')\n",
    "### Model Building\n",
    "model = Sequential()\n",
    "model.add(Conv2D(filters=32, kernel_size=5, activation='relu', padding='same', input_shape=(28, 28, 1)))\n",
    "model.add(MaxPool2D(pool_size=2))\n",
    "model.add(Conv2D(filters=64, kernel_size=3, activation='relu', padding='same'))\n",
    "model.add(Conv2D(filters=64, kernel_size=3, activation='relu', padding='same'))\n",
    "model.add(MaxPool2D(pool_size=2))\n",
    "model.add(Conv2D(filters=64, kernel_size=3, activation='relu', padding='same'))\n",
    "model.add(Conv2D(filters=64, kernel_size=3, activation='relu', padding='same'))\n",
    "model.add(MaxPool2D(pool_size=2))\n",
    "model.add(Flatten())\n",
    "model.add(Dense(512, activation='relu'))\n",
    "model.add(Dropout(0.25))\n",
    "model.add(Dense(512, activation='relu'))\n",
    "model.add(Dropout(0.25))\n",
    "model.add(Dense(512, activation='relu'))\n",
    "model.add(Dropout(0.1))\n",
    "model.add(Dense(256, activation='relu'))\n",
    "model.add(Dense(10, activation='softmax'))\n",
    "### Model Compilation and Training\n",
    "model.compile(optimizer='adam', loss='categorical_crossentropy', metrics=['accuracy'])\n",
    "reduce_lr = ReduceLROnPlateau(monitor='val_loss', factor=0.1, patience=5, min_lr=0.000001)\n",
    "checkpoint = ModelCheckpoint(filepath='model.hdf5', monitor='val_loss', save_best_only=True, save_weights_only=True)\n",
    "history = model.fit(train_dataset, epochs=20, validation_data=test_dataset, callbacks=[reduce_lr, checkpoint])\n",
    "### Plotting Training History\n",
    "plt.figure(figsize=(14, 5))\n",
    "\n",
    "# Plotting Accuracy\n",
    "plt.subplot(1, 2, 1)\n",
    "plt.plot(history.history['accuracy'], label='Training Accuracy')\n",
    "plt.plot(history.history['val_accuracy'], label='Validation Accuracy')\n",
    "plt.title('Model Accuracy')\n",
    "plt.xlabel('Epoch')\n",
    "plt.ylabel('Accuracy')\n",
    "plt.legend()\n",
    "\n",
    "# Plotting Loss\n",
    "plt.subplot(1, 2, 2)\n",
    "plt.plot(history.history['loss'], label='Training Loss')\n",
    "plt.plot(history.history['val_loss'], label='Validation Loss')\n",
    "plt.title('Model Loss')\n",
    "plt.xlabel('Epoch')\n",
    "plt.ylabel('Loss')\n",
    "plt.legend()\n",
    "\n",
    "plt.tight_layout()\n",
    "plt.show()\n",
    "test = pd.read_csv('test.csv')\n",
    "\n",
    "test = np.array(test, dtype=np.float32) / 255\n",
    "test = test.reshape(-1, 28, 28, 1)\n",
    "prediction = model.predict(test)\n",
    "predict = np.array(np.round(prediction), dtype=np.int32)\n",
    "predict = np.argmax(predict, axis=1).reshape(-1, 1)\n",
    "out = [{'ImageId': i + 1, 'Label': predict[i][0]} for i in range(len(predict))]\n",
    "pd.DataFrame(out).to_csv('submission.csv', index=False)\n"
   ],
   "metadata": {
    "collapsed": false,
    "ExecuteTime": {
     "end_time": "2023-11-22T12:33:01.424485200Z",
     "start_time": "2023-11-22T12:33:01.424485200Z"
    }
   },
   "id": "c45554a540dedbf2"
  },
  {
   "cell_type": "code",
   "execution_count": null,
   "outputs": [],
   "source": [],
   "metadata": {
    "collapsed": false,
    "ExecuteTime": {
     "start_time": "2023-11-22T12:33:01.424485200Z"
    }
   },
   "id": "f425513e328facc6"
  },
  {
   "cell_type": "code",
   "execution_count": null,
   "outputs": [],
   "source": [],
   "metadata": {
    "collapsed": false,
    "ExecuteTime": {
     "end_time": "2023-11-22T12:33:01.440122800Z",
     "start_time": "2023-11-22T12:33:01.424485200Z"
    }
   },
   "id": "6af0f3e29cddba4f"
  },
  {
   "cell_type": "code",
   "execution_count": null,
   "outputs": [],
   "source": [],
   "metadata": {
    "collapsed": false
   },
   "id": "ccd6aa7cb4e4c83d"
  }
 ],
 "metadata": {
  "kernelspec": {
   "display_name": "Python 3",
   "language": "python",
   "name": "python3"
  },
  "language_info": {
   "codemirror_mode": {
    "name": "ipython",
    "version": 2
   },
   "file_extension": ".py",
   "mimetype": "text/x-python",
   "name": "python",
   "nbconvert_exporter": "python",
   "pygments_lexer": "ipython2",
   "version": "2.7.6"
  }
 },
 "nbformat": 4,
 "nbformat_minor": 5
}
